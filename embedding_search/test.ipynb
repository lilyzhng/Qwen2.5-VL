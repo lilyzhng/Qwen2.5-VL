{
 "cells": [
  {
   "cell_type": "code",
   "execution_count": 1,
   "id": "de040652",
   "metadata": {},
   "outputs": [],
   "source": [
    "import pandas as pd\n"
   ]
  },
  {
   "cell_type": "code",
   "execution_count": 7,
   "id": "c7e1b994",
   "metadata": {},
   "outputs": [
    {
     "name": "stdout",
     "output_type": "stream",
     "text": [
      "Collecting seaborn\n",
      "  Using cached seaborn-0.13.2-py3-none-any.whl.metadata (5.4 kB)\n",
      "Requirement already satisfied: numpy!=1.24.0,>=1.20 in /Users/lilyzhang/Desktop/Qwen2.5-VL/qwen_venv/lib/python3.13/site-packages (from seaborn) (2.3.0)\n",
      "Requirement already satisfied: pandas>=1.2 in /Users/lilyzhang/Desktop/Qwen2.5-VL/qwen_venv/lib/python3.13/site-packages (from seaborn) (2.3.1)\n",
      "Requirement already satisfied: matplotlib!=3.6.1,>=3.4 in /Users/lilyzhang/Desktop/Qwen2.5-VL/qwen_venv/lib/python3.13/site-packages (from seaborn) (3.10.5)\n",
      "Requirement already satisfied: contourpy>=1.0.1 in /Users/lilyzhang/Desktop/Qwen2.5-VL/qwen_venv/lib/python3.13/site-packages (from matplotlib!=3.6.1,>=3.4->seaborn) (1.3.3)\n",
      "Requirement already satisfied: cycler>=0.10 in /Users/lilyzhang/Desktop/Qwen2.5-VL/qwen_venv/lib/python3.13/site-packages (from matplotlib!=3.6.1,>=3.4->seaborn) (0.12.1)\n",
      "Requirement already satisfied: fonttools>=4.22.0 in /Users/lilyzhang/Desktop/Qwen2.5-VL/qwen_venv/lib/python3.13/site-packages (from matplotlib!=3.6.1,>=3.4->seaborn) (4.59.0)\n",
      "Requirement already satisfied: kiwisolver>=1.3.1 in /Users/lilyzhang/Desktop/Qwen2.5-VL/qwen_venv/lib/python3.13/site-packages (from matplotlib!=3.6.1,>=3.4->seaborn) (1.4.9)\n",
      "Requirement already satisfied: packaging>=20.0 in /Users/lilyzhang/Desktop/Qwen2.5-VL/qwen_venv/lib/python3.13/site-packages (from matplotlib!=3.6.1,>=3.4->seaborn) (25.0)\n",
      "Requirement already satisfied: pillow>=8 in /Users/lilyzhang/Desktop/Qwen2.5-VL/qwen_venv/lib/python3.13/site-packages (from matplotlib!=3.6.1,>=3.4->seaborn) (11.2.1)\n",
      "Requirement already satisfied: pyparsing>=2.3.1 in /Users/lilyzhang/Desktop/Qwen2.5-VL/qwen_venv/lib/python3.13/site-packages (from matplotlib!=3.6.1,>=3.4->seaborn) (3.2.3)\n",
      "Requirement already satisfied: python-dateutil>=2.7 in /Users/lilyzhang/Desktop/Qwen2.5-VL/qwen_venv/lib/python3.13/site-packages (from matplotlib!=3.6.1,>=3.4->seaborn) (2.9.0.post0)\n",
      "Requirement already satisfied: pytz>=2020.1 in /Users/lilyzhang/Desktop/Qwen2.5-VL/qwen_venv/lib/python3.13/site-packages (from pandas>=1.2->seaborn) (2025.2)\n",
      "Requirement already satisfied: tzdata>=2022.7 in /Users/lilyzhang/Desktop/Qwen2.5-VL/qwen_venv/lib/python3.13/site-packages (from pandas>=1.2->seaborn) (2025.2)\n",
      "Requirement already satisfied: six>=1.5 in /Users/lilyzhang/Desktop/Qwen2.5-VL/qwen_venv/lib/python3.13/site-packages (from python-dateutil>=2.7->matplotlib!=3.6.1,>=3.4->seaborn) (1.17.0)\n",
      "Using cached seaborn-0.13.2-py3-none-any.whl (294 kB)\n",
      "Installing collected packages: seaborn\n",
      "Successfully installed seaborn-0.13.2\n",
      "\n",
      "\u001b[1m[\u001b[0m\u001b[34;49mnotice\u001b[0m\u001b[1;39;49m]\u001b[0m\u001b[39;49m A new release of pip is available: \u001b[0m\u001b[31;49m24.3.1\u001b[0m\u001b[39;49m -> \u001b[0m\u001b[32;49m25.2\u001b[0m\n",
      "\u001b[1m[\u001b[0m\u001b[34;49mnotice\u001b[0m\u001b[1;39;49m]\u001b[0m\u001b[39;49m To update, run: \u001b[0m\u001b[32;49mpip install --upgrade pip\u001b[0m\n"
     ]
    }
   ],
   "source": [
    "!pip install seaborn"
   ]
  },
  {
   "cell_type": "code",
   "execution_count": 21,
   "id": "0b2a7454",
   "metadata": {},
   "outputs": [
    {
     "data": {
      "text/html": [
       "<div>\n",
       "<style scoped>\n",
       "    .dataframe tbody tr th:only-of-type {\n",
       "        vertical-align: middle;\n",
       "    }\n",
       "\n",
       "    .dataframe tbody tr th {\n",
       "        vertical-align: top;\n",
       "    }\n",
       "\n",
       "    .dataframe thead th {\n",
       "        text-align: right;\n",
       "    }\n",
       "</style>\n",
       "<table border=\"1\" class=\"dataframe\">\n",
       "  <thead>\n",
       "    <tr style=\"text-align: right;\">\n",
       "      <th></th>\n",
       "      <th>tar_key</th>\n",
       "      <th>embedding</th>\n",
       "      <th>class_name</th>\n",
       "      <th>span_start</th>\n",
       "      <th>span_end</th>\n",
       "      <th>youtube_id</th>\n",
       "      <th>x</th>\n",
       "      <th>y</th>\n",
       "      <th>cluster_id</th>\n",
       "      <th>span_duration</th>\n",
       "      <th>duration_category</th>\n",
       "    </tr>\n",
       "  </thead>\n",
       "  <tbody>\n",
       "    <tr>\n",
       "      <th>0</th>\n",
       "      <td>00b0c5af-7588-4760-a5ea-4c6d3bf46b11</td>\n",
       "      <td>[0.08740234375, -0.10546875, 0.0830078125, -0....</td>\n",
       "      <td>00b0c5af-7588-4760-a5ea-4c6d3bf46b11</td>\n",
       "      <td>4890.0</td>\n",
       "      <td>4910.0</td>\n",
       "      <td>Ahjke3hVOeU</td>\n",
       "      <td>-43.500721</td>\n",
       "      <td>36.12685</td>\n",
       "      <td>589</td>\n",
       "      <td>20.0</td>\n",
       "      <td>&gt;= 20</td>\n",
       "    </tr>\n",
       "  </tbody>\n",
       "</table>\n",
       "</div>"
      ],
      "text/plain": [
       "                                tar_key  \\\n",
       "0  00b0c5af-7588-4760-a5ea-4c6d3bf46b11   \n",
       "\n",
       "                                           embedding  \\\n",
       "0  [0.08740234375, -0.10546875, 0.0830078125, -0....   \n",
       "\n",
       "                             class_name  span_start  span_end   youtube_id  \\\n",
       "0  00b0c5af-7588-4760-a5ea-4c6d3bf46b11      4890.0    4910.0  Ahjke3hVOeU   \n",
       "\n",
       "           x         y  cluster_id  span_duration duration_category  \n",
       "0 -43.500721  36.12685         589           20.0             >= 20  "
      ]
     },
     "execution_count": 21,
     "metadata": {},
     "output_type": "execute_result"
    }
   ],
   "source": [
    "df.head(1)"
   ]
  },
  {
   "cell_type": "code",
   "execution_count": 20,
   "id": "a24fbad2",
   "metadata": {},
   "outputs": [
    {
     "name": "stdout",
     "output_type": "stream",
     "text": [
      "Span Duration Distribution:\n",
      "==============================\n",
      "count    21228.000000\n",
      "mean        19.988145\n",
      "std          0.297556\n",
      "min         10.000000\n",
      "25%         20.000000\n",
      "50%         20.000000\n",
      "75%         20.000000\n",
      "max         20.000000\n",
      "Name: span_duration, dtype: float64\n",
      "\n",
      "Unique span durations:\n",
      "[np.float64(10.0), np.float64(10.006673340006728), np.float64(10.013346680013456), np.float64(10.04166666666697), np.float64(10.099999999999909), np.float64(10.200000000000045), np.float64(10.236903570237246), np.float64(10.400000000000091), np.float64(10.58333333333303), np.float64(10.613083333332725), np.float64(10.633333333333212), np.float64(10.666666666666515), np.float64(11.197864531197865), np.float64(11.400000000000091), np.float64(11.608274941608443), np.float64(12.290700000000015), np.float64(12.66666666666697), np.float64(12.962166666667144), np.float64(13.159999999999854), np.float64(14.166666666666515), np.float64(14.574574574574399), np.float64(14.591257924591446), np.float64(14.766666666666652), np.float64(15.033333333333303), np.float64(15.0583917250583), np.float64(15.299999999999955), np.float64(15.566666666666606), np.float64(16.041666666666686), np.float64(16.33333333333337), np.float64(16.699999999999818), np.float64(16.76666666666688), np.float64(17.00630000000001), np.float64(17.039933333333465), np.float64(17.17876666666666), np.float64(17.346700000000055), np.float64(17.4399999999996), np.float64(17.466666666666697), np.float64(18.13333333333344), np.float64(18.33333333333337), np.float64(18.600000000000364), np.float64(18.66533199866535), np.float64(18.794533333333334), np.float64(19.41608274941609), np.float64(19.59999999999991), np.float64(19.800000000000182), np.float64(19.888200000000097), np.float64(19.952666666666687), np.float64(20.0)]\n",
      "\n",
      "Span duration by categories:\n",
      "duration_category\n",
      "< 10         0\n",
      "10-15       23\n",
      "15-20       24\n",
      ">= 20    21181\n",
      "Name: count, dtype: int64\n"
     ]
    },
    {
     "data": {
      "image/png": "[encoded data removed]",
      "text/plain": [
       "<Figure size 1000x600 with 1 Axes>"
      ]
     },
     "metadata": {},
     "output_type": "display_data"
    },
    {
     "name": "stdout",
     "output_type": "stream",
     "text": [
      "\n",
      "Percentage distribution:\n",
      "< 10: 0 (0.0%)\n",
      "10-15: 23 (0.1%)\n",
      "15-20: 24 (0.1%)\n",
      ">= 20: 21181 (99.8%)\n"
     ]
    }
   ],
   "source": [
    "import pandas as pd\n",
    "import matplotlib.pyplot as plt\n",
    "import numpy as np\n",
    "\n",
    "# Load the parquet file\n",
    "df = pd.read_parquet('/Users/lilyzhang/Desktop/Qwen2.5-VL/embedding_search/official_app/src/opendrive_val.parquet')\n",
    "\n",
    "# Calculate span duration\n",
    "df['span_duration'] = df['span_end'] - df['span_start']\n",
    "\n",
    "print(\"Span Duration Distribution:\")\n",
    "print(\"=\"*30)\n",
    "print(df['span_duration'].describe())\n",
    "\n",
    "print(f\"\\nUnique span durations:\")\n",
    "print(sorted(df['span_duration'].unique()))\n",
    "\n",
    "# Create bins as requested: <10, 10-15, 15-20, >20\n",
    "bins = [0, 10, 15, 20, float('inf')]\n",
    "labels = ['< 10', '10-15', '15-20', '>= 20']\n",
    "\n",
    "# Categorize durations into bins\n",
    "df['duration_category'] = pd.cut(df['span_duration'], bins=bins, labels=labels, right=False)\n",
    "\n",
    "print(f\"\\nSpan duration by categories:\")\n",
    "category_counts = df['duration_category'].value_counts().sort_index()\n",
    "print(category_counts)\n",
    "\n",
    "# Create histogram with custom bins\n",
    "plt.figure(figsize=(10, 6))\n",
    "counts, bin_edges, patches = plt.hist(df['span_duration'], bins=[0, 10, 15, 20, df['span_duration'].max() + 1], \n",
    "                                     alpha=0.7, edgecolor='black')\n",
    "\n",
    "# Customize the plot\n",
    "plt.xlabel('Span Duration (seconds)')\n",
    "plt.ylabel('Frequency')\n",
    "plt.title('Distribution of Span Durations')\n",
    "plt.grid(True, alpha=0.3)\n",
    "\n",
    "# Set custom x-tick labels\n",
    "plt.xticks([5, 12.5, 17.5, 22.5], ['< 10', '10-15', '15-20', '>= 20'])\n",
    "\n",
    "# Add count labels on bars\n",
    "for i, count in enumerate(counts):\n",
    "    if count > 0:\n",
    "        plt.text(bin_edges[i] + (bin_edges[i+1] - bin_edges[i])/2, count + max(counts)*0.01, \n",
    "                f'{int(count)}', ha='center', va='bottom')\n",
    "\n",
    "plt.show()\n",
    "\n",
    "# Print percentages\n",
    "total_count = len(df)\n",
    "print(f\"\\nPercentage distribution:\")\n",
    "for category, count in category_counts.items():\n",
    "    percentage = (count / total_count) * 100\n",
    "    print(f\"{category}: {count} ({percentage:.1f}%)\")"
   ]
  },
  {
   "cell_type": "code",
   "execution_count": 5,
   "id": "f88fd98e",
   "metadata": {},
   "outputs": [
    {
     "data": {
      "text/html": [
       "<div>\n",
       "<style scoped>\n",
       "    .dataframe tbody tr th:only-of-type {\n",
       "        vertical-align: middle;\n",
       "    }\n",
       "\n",
       "    .dataframe tbody tr th {\n",
       "        vertical-align: top;\n",
       "    }\n",
       "\n",
       "    .dataframe thead th {\n",
       "        text-align: right;\n",
       "    }\n",
       "</style>\n",
       "<table border=\"1\" class=\"dataframe\">\n",
       "  <thead>\n",
       "    <tr style=\"text-align: right;\">\n",
       "      <th></th>\n",
       "      <th>tar_key</th>\n",
       "      <th>embedding</th>\n",
       "      <th>class_name</th>\n",
       "      <th>span_start</th>\n",
       "      <th>span_end</th>\n",
       "      <th>youtube_id</th>\n",
       "      <th>x</th>\n",
       "      <th>y</th>\n",
       "      <th>cluster_id</th>\n",
       "    </tr>\n",
       "  </thead>\n",
       "  <tbody>\n",
       "    <tr>\n",
       "      <th>0</th>\n",
       "      <td>00b0c5af-7588-4760-a5ea-4c6d3bf46b11</td>\n",
       "      <td>[0.08740234375, -0.10546875, 0.0830078125, -0....</td>\n",
       "      <td>00b0c5af-7588-4760-a5ea-4c6d3bf46b11</td>\n",
       "      <td>4890.0</td>\n",
       "      <td>4910.0</td>\n",
       "      <td>Ahjke3hVOeU</td>\n",
       "      <td>-43.500721</td>\n",
       "      <td>36.12685</td>\n",
       "      <td>589</td>\n",
       "    </tr>\n",
       "  </tbody>\n",
       "</table>\n",
       "</div>"
      ],
      "text/plain": [
       "                                tar_key  \\\n",
       "0  00b0c5af-7588-4760-a5ea-4c6d3bf46b11   \n",
       "\n",
       "                                           embedding  \\\n",
       "0  [0.08740234375, -0.10546875, 0.0830078125, -0....   \n",
       "\n",
       "                             class_name  span_start  span_end   youtube_id  \\\n",
       "0  00b0c5af-7588-4760-a5ea-4c6d3bf46b11      4890.0    4910.0  Ahjke3hVOeU   \n",
       "\n",
       "           x         y  cluster_id  \n",
       "0 -43.500721  36.12685         589  "
      ]
     },
     "execution_count": 5,
     "metadata": {},
     "output_type": "execute_result"
    }
   ],
   "source": [
    "df_opendrive.head(1)"
   ]
  },
  {
   "cell_type": "code",
   "execution_count": 2,
   "id": "7ea64b3f",
   "metadata": {},
   "outputs": [],
   "source": [
    "df_1 = pd.read_parquet('/Users/lilyzhang/Desktop/Qwen2.5-VL/embedding_search/data/unified_embeddings.parquet')\n",
    "df_2 = pd.read_parquet('/Users/lilyzhang/Desktop/Qwen2.5-VL/embedding_search/data/unified_embeddings_.parquet')\n",
    "\n"
   ]
  },
  {
   "cell_type": "code",
   "execution_count": 3,
   "id": "5faa279e",
   "metadata": {},
   "outputs": [],
   "source": [
    "merged_df = pd.concat([df_1, df_2])\n",
    "merged_df.to_parquet('/Users/lilyzhang/Desktop/Qwen2.5-VL/embedding_search/data/unified_embeddings.parquet', index=False)"
   ]
  },
  {
   "cell_type": "code",
   "execution_count": null,
   "id": "047f35cb",
   "metadata": {},
   "outputs": [],
   "source": []
  }
 ],
 "metadata": {
  "kernelspec": {
   "display_name": "Qwen2.5-VL Environment",
   "language": "python",
   "name": "qwen_venv"
  },
  "language_info": {
   "codemirror_mode": {
    "name": "ipython",
    "version": 3
   },
   "file_extension": ".py",
   "mimetype": "text/x-python",
   "name": "python",
   "nbconvert_exporter": "python",
   "pygments_lexer": "ipython3",
   "version": "3.13.1"
  }
 },
 "nbformat": 4,
 "nbformat_minor": 5
}
